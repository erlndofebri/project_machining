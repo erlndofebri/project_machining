{
 "cells": [
  {
   "cell_type": "code",
   "execution_count": 7,
   "id": "033c9edd",
   "metadata": {},
   "outputs": [],
   "source": [
    "import pandas as pd\n",
    "import seaborn as sns\n",
    "import matplotlib.pyplot as plt\n",
    "import numpy as np\n",
    "import tqdm\n",
    "from sklearn.model_selection import train_test_split\n",
    "# data dumb store\n",
    "import joblib\n",
    "# to locate yaml file\n",
    "import yaml\n",
    "# to locate directore\n",
    "import os"
   ]
  },
  {
   "cell_type": "code",
   "execution_count": 8,
   "id": "ebbdfe32",
   "metadata": {},
   "outputs": [],
   "source": [
    "params_dir = \"config/config.yaml\""
   ]
  },
  {
   "cell_type": "code",
   "execution_count": 9,
   "id": "a87f6d60",
   "metadata": {},
   "outputs": [],
   "source": [
    "def load_params(param_dir):\n",
    "    \"Function to read params config\"\n",
    "    with open(param_dir, 'r') as file:\n",
    "        params = yaml.safe_load(file)\n",
    "        \n",
    "    return params"
   ]
  },
  {
   "cell_type": "code",
   "execution_count": 10,
   "id": "ec23241b",
   "metadata": {},
   "outputs": [],
   "source": [
    "params = load_params(params_dir)"
   ]
  },
  {
   "cell_type": "code",
   "execution_count": 11,
   "id": "16e14b7f",
   "metadata": {},
   "outputs": [
    {
     "data": {
      "text/plain": [
       "{'dataset_path': 'data/raw/machining_maintenance.csv',\n",
       " 'dataset_cleaned_path': 'data/processed/machining_maintenance.pkl',\n",
       " 'train_set_path': ['data/processed/x_train.pkl',\n",
       "  'data/processed/y_train.pkl'],\n",
       " 'valid_set_path': ['data/processed/x_valid.pkl',\n",
       "  'data/processed/y_valid.pkl'],\n",
       " 'test_set_path': ['data/processed/x_test.pkl', 'data/processed/y_test.pkl'],\n",
       " 'train_feng_set_path': ['data/processed/x_train_feng.pkl',\n",
       "  'data/processed/y_train_feng.pkl'],\n",
       " 'valid_feng_set_path': ['data/processed/x_valid_feng.pkl',\n",
       "  'data/processed/y_valid_feng.pkl'],\n",
       " 'test_feng_set_path': ['data/processed/x_test_feng.pkl',\n",
       "  'data/processed/y_test_feng.pkl'],\n",
       " 'production_model_path': 'model/production_model.pkl',\n",
       " 'ohe_stasiun_path': 'model/encoder.pkl',\n",
       " 'le_encoder_path': 'model/le_failure_type.pkl',\n",
       " 'training_log_path': 'log/training_log.json',\n",
       " 'print_debug': True,\n",
       " 'drop_list': ['Product ID'],\n",
       " 'int64_columns': ['Rotational speed [rpm]', 'Tool wear [min]'],\n",
       " 'float64_columns': ['Air temperature [K]',\n",
       "  'Process temperature [K]',\n",
       "  'Torque [Nm]'],\n",
       " 'label': 'Failure Type',\n",
       " 'label_Failure Type': ['No Failure', 'Failure'],\n",
       " 'mapping_target_feature': {'Heat Dissipation Failure': 'Failure',\n",
       "  'Power Failure': 'Failure',\n",
       "  'Overstrain Failure': 'Failure',\n",
       "  'Tool Wear Failure': 'Failure',\n",
       "  'Random Failures': 'Failure'},\n",
       " 'object_columns': ['Product ID', 'Type', 'Failure Type'],\n",
       " 'predictors': ['Type',\n",
       "  'Air temperature [K]',\n",
       "  'Process temperature [K]',\n",
       "  'Rotational speed [rpm]',\n",
       "  'Torque [Nm]',\n",
       "  'Tool wear [min]'],\n",
       " 'predictors_ohe': ['Air temperature [K]',\n",
       "  'Process temperature [K]',\n",
       "  'Rotational speed [rpm]',\n",
       "  'Torque [Nm]',\n",
       "  'Tool wear [min]',\n",
       "  'Type_H',\n",
       "  'Type_L',\n",
       "  'Type_M'],\n",
       " 'range_Air temperature [K]': [295.3, 304.5],\n",
       " 'range_Process temperature [K]': [305.7, 313.8],\n",
       " 'range_Rotational speed [rpm]': [1168.0, 2886.0],\n",
       " 'range_Torque [Nm]': [3.8, 76.6],\n",
       " 'range_Tool wear [min]': [0.0, 253.0],\n",
       " 'range_Type': ['M', 'L', 'H'],\n",
       " 'range_Failure Type': ['No Failure', 'Failure'],\n",
       " 'test_size': 0.2,\n",
       " 'valid_size': 0.5,\n",
       " 'list_of_model_path': 'log/list_of_model.pkl',\n",
       " 'list_of_param_path': 'log/list_of_param.pkl',\n",
       " 'list_of_tuned_model_path': 'log/list_of_tuned_model.pkl',\n",
       " 'best_model_path': 'model/best_model.pkl',\n",
       " 'best_threshold_path': 'model/best_threshold.pkl'}"
      ]
     },
     "execution_count": 11,
     "metadata": {},
     "output_type": "execute_result"
    }
   ],
   "source": [
    "params"
   ]
  },
  {
   "cell_type": "markdown",
   "id": "ec553331",
   "metadata": {},
   "source": [
    "# 1. Read Data"
   ]
  },
  {
   "cell_type": "code",
   "execution_count": 12,
   "id": "97bca4da",
   "metadata": {},
   "outputs": [
    {
     "data": {
      "text/plain": [
       "'data/raw/machining_maintenance.csv'"
      ]
     },
     "execution_count": 12,
     "metadata": {},
     "output_type": "execute_result"
    }
   ],
   "source": [
    "params['dataset_path']"
   ]
  },
  {
   "cell_type": "code",
   "execution_count": 13,
   "id": "d472771a",
   "metadata": {},
   "outputs": [
    {
     "data": {
      "text/plain": [
       "{'Heat Dissipation Failure': 'Failure',\n",
       " 'Power Failure': 'Failure',\n",
       " 'Overstrain Failure': 'Failure',\n",
       " 'Tool Wear Failure': 'Failure',\n",
       " 'Random Failures': 'Failure'}"
      ]
     },
     "execution_count": 13,
     "metadata": {},
     "output_type": "execute_result"
    }
   ],
   "source": [
    "params['mapping_target_feature']"
   ]
  },
  {
   "cell_type": "code",
   "execution_count": 14,
   "id": "8c1ce894",
   "metadata": {},
   "outputs": [],
   "source": [
    "# fungsi read data csv\n",
    "def read_data(path):\n",
    "    \"Function to read data with csv formar\"\n",
    "    data = pd.read_csv(path)\n",
    "    return data"
   ]
  },
  {
   "cell_type": "code",
   "execution_count": 15,
   "id": "ccf2f2eb",
   "metadata": {},
   "outputs": [],
   "source": [
    "# read data\n",
    "df = read_data(path = params['dataset_path'])"
   ]
  },
  {
   "cell_type": "code",
   "execution_count": 16,
   "id": "0b2b7542",
   "metadata": {},
   "outputs": [
    {
     "data": {
      "text/html": [
       "<div>\n",
       "<style scoped>\n",
       "    .dataframe tbody tr th:only-of-type {\n",
       "        vertical-align: middle;\n",
       "    }\n",
       "\n",
       "    .dataframe tbody tr th {\n",
       "        vertical-align: top;\n",
       "    }\n",
       "\n",
       "    .dataframe thead th {\n",
       "        text-align: right;\n",
       "    }\n",
       "</style>\n",
       "<table border=\"1\" class=\"dataframe\">\n",
       "  <thead>\n",
       "    <tr style=\"text-align: right;\">\n",
       "      <th></th>\n",
       "      <th>Product ID</th>\n",
       "      <th>Type</th>\n",
       "      <th>Air temperature [K]</th>\n",
       "      <th>Process temperature [K]</th>\n",
       "      <th>Rotational speed [rpm]</th>\n",
       "      <th>Torque [Nm]</th>\n",
       "      <th>Tool wear [min]</th>\n",
       "      <th>Failure Type</th>\n",
       "    </tr>\n",
       "  </thead>\n",
       "  <tbody>\n",
       "    <tr>\n",
       "      <th>0</th>\n",
       "      <td>M14860</td>\n",
       "      <td>M</td>\n",
       "      <td>298.1</td>\n",
       "      <td>308.6</td>\n",
       "      <td>1551</td>\n",
       "      <td>42.8</td>\n",
       "      <td>0</td>\n",
       "      <td>No Failure</td>\n",
       "    </tr>\n",
       "    <tr>\n",
       "      <th>1</th>\n",
       "      <td>L47181</td>\n",
       "      <td>L</td>\n",
       "      <td>298.2</td>\n",
       "      <td>308.7</td>\n",
       "      <td>1408</td>\n",
       "      <td>46.3</td>\n",
       "      <td>3</td>\n",
       "      <td>No Failure</td>\n",
       "    </tr>\n",
       "    <tr>\n",
       "      <th>2</th>\n",
       "      <td>L47182</td>\n",
       "      <td>L</td>\n",
       "      <td>298.1</td>\n",
       "      <td>308.5</td>\n",
       "      <td>1498</td>\n",
       "      <td>49.4</td>\n",
       "      <td>5</td>\n",
       "      <td>No Failure</td>\n",
       "    </tr>\n",
       "    <tr>\n",
       "      <th>3</th>\n",
       "      <td>L47183</td>\n",
       "      <td>L</td>\n",
       "      <td>298.2</td>\n",
       "      <td>308.6</td>\n",
       "      <td>1433</td>\n",
       "      <td>39.5</td>\n",
       "      <td>7</td>\n",
       "      <td>No Failure</td>\n",
       "    </tr>\n",
       "    <tr>\n",
       "      <th>4</th>\n",
       "      <td>L47184</td>\n",
       "      <td>L</td>\n",
       "      <td>298.2</td>\n",
       "      <td>308.7</td>\n",
       "      <td>1408</td>\n",
       "      <td>40.0</td>\n",
       "      <td>9</td>\n",
       "      <td>No Failure</td>\n",
       "    </tr>\n",
       "  </tbody>\n",
       "</table>\n",
       "</div>"
      ],
      "text/plain": [
       "  Product ID Type  Air temperature [K]  Process temperature [K]  \\\n",
       "0     M14860    M                298.1                    308.6   \n",
       "1     L47181    L                298.2                    308.7   \n",
       "2     L47182    L                298.1                    308.5   \n",
       "3     L47183    L                298.2                    308.6   \n",
       "4     L47184    L                298.2                    308.7   \n",
       "\n",
       "   Rotational speed [rpm]  Torque [Nm]  Tool wear [min] Failure Type  \n",
       "0                    1551         42.8                0   No Failure  \n",
       "1                    1408         46.3                3   No Failure  \n",
       "2                    1498         49.4                5   No Failure  \n",
       "3                    1433         39.5                7   No Failure  \n",
       "4                    1408         40.0                9   No Failure  "
      ]
     },
     "execution_count": 16,
     "metadata": {},
     "output_type": "execute_result"
    }
   ],
   "source": [
    "# show data\n",
    "df.head()"
   ]
  },
  {
   "cell_type": "code",
   "execution_count": 17,
   "id": "13aac3b2",
   "metadata": {},
   "outputs": [
    {
     "data": {
      "text/plain": [
       "(10000, 8)"
      ]
     },
     "execution_count": 17,
     "metadata": {},
     "output_type": "execute_result"
    }
   ],
   "source": [
    "# check data dimension\n",
    "df.shape"
   ]
  },
  {
   "cell_type": "markdown",
   "id": "c862c46a",
   "metadata": {},
   "source": [
    "# 2. Data Type"
   ]
  },
  {
   "cell_type": "code",
   "execution_count": 18,
   "id": "c20eaaaa",
   "metadata": {},
   "outputs": [],
   "source": [
    "# Create Data Description\n",
    "\n",
    "def data_desc(df):\n",
    "    \"Function to Show Sample Information / Description about the data\"\n",
    "    \n",
    "    list_item = []\n",
    "    for col in df.columns:\n",
    "        list_item.append([col, df[col].dtype, \n",
    "                          df[col].isna().sum(),\n",
    "                          100*df[col].isna().sum()/len(df[col]),\n",
    "                          df[col].nunique(),\n",
    "                          df[col].unique()[:4]])\n",
    "        \n",
    "    desc_df = pd.DataFrame(data=list_item, columns='feature data_type null_num null_pct unique_num unique_sample'.split())\n",
    "    \n",
    "    return desc_df"
   ]
  },
  {
   "cell_type": "code",
   "execution_count": 19,
   "id": "9e633bdd",
   "metadata": {},
   "outputs": [],
   "source": [
    "# show information data\n",
    "desc = data_desc(df)"
   ]
  },
  {
   "cell_type": "code",
   "execution_count": 20,
   "id": "3a9227ee",
   "metadata": {},
   "outputs": [
    {
     "data": {
      "text/html": [
       "<div>\n",
       "<style scoped>\n",
       "    .dataframe tbody tr th:only-of-type {\n",
       "        vertical-align: middle;\n",
       "    }\n",
       "\n",
       "    .dataframe tbody tr th {\n",
       "        vertical-align: top;\n",
       "    }\n",
       "\n",
       "    .dataframe thead th {\n",
       "        text-align: right;\n",
       "    }\n",
       "</style>\n",
       "<table border=\"1\" class=\"dataframe\">\n",
       "  <thead>\n",
       "    <tr style=\"text-align: right;\">\n",
       "      <th></th>\n",
       "      <th>feature</th>\n",
       "      <th>data_type</th>\n",
       "      <th>null_num</th>\n",
       "      <th>null_pct</th>\n",
       "      <th>unique_num</th>\n",
       "      <th>unique_sample</th>\n",
       "    </tr>\n",
       "  </thead>\n",
       "  <tbody>\n",
       "    <tr>\n",
       "      <th>0</th>\n",
       "      <td>Product ID</td>\n",
       "      <td>object</td>\n",
       "      <td>0</td>\n",
       "      <td>0.0</td>\n",
       "      <td>10000</td>\n",
       "      <td>[M14860, L47181, L47182, L47183]</td>\n",
       "    </tr>\n",
       "    <tr>\n",
       "      <th>1</th>\n",
       "      <td>Type</td>\n",
       "      <td>object</td>\n",
       "      <td>0</td>\n",
       "      <td>0.0</td>\n",
       "      <td>3</td>\n",
       "      <td>[M, L, H]</td>\n",
       "    </tr>\n",
       "    <tr>\n",
       "      <th>2</th>\n",
       "      <td>Air temperature [K]</td>\n",
       "      <td>float64</td>\n",
       "      <td>0</td>\n",
       "      <td>0.0</td>\n",
       "      <td>93</td>\n",
       "      <td>[298.1, 298.2, 298.3, 298.5]</td>\n",
       "    </tr>\n",
       "    <tr>\n",
       "      <th>3</th>\n",
       "      <td>Process temperature [K]</td>\n",
       "      <td>float64</td>\n",
       "      <td>0</td>\n",
       "      <td>0.0</td>\n",
       "      <td>82</td>\n",
       "      <td>[308.6, 308.7, 308.5, 309.0]</td>\n",
       "    </tr>\n",
       "    <tr>\n",
       "      <th>4</th>\n",
       "      <td>Rotational speed [rpm]</td>\n",
       "      <td>int64</td>\n",
       "      <td>0</td>\n",
       "      <td>0.0</td>\n",
       "      <td>941</td>\n",
       "      <td>[1551, 1408, 1498, 1433]</td>\n",
       "    </tr>\n",
       "    <tr>\n",
       "      <th>5</th>\n",
       "      <td>Torque [Nm]</td>\n",
       "      <td>float64</td>\n",
       "      <td>0</td>\n",
       "      <td>0.0</td>\n",
       "      <td>577</td>\n",
       "      <td>[42.8, 46.3, 49.4, 39.5]</td>\n",
       "    </tr>\n",
       "    <tr>\n",
       "      <th>6</th>\n",
       "      <td>Tool wear [min]</td>\n",
       "      <td>int64</td>\n",
       "      <td>0</td>\n",
       "      <td>0.0</td>\n",
       "      <td>246</td>\n",
       "      <td>[0, 3, 5, 7]</td>\n",
       "    </tr>\n",
       "    <tr>\n",
       "      <th>7</th>\n",
       "      <td>Failure Type</td>\n",
       "      <td>object</td>\n",
       "      <td>0</td>\n",
       "      <td>0.0</td>\n",
       "      <td>6</td>\n",
       "      <td>[No Failure, Power Failure, Tool Wear Failure,...</td>\n",
       "    </tr>\n",
       "  </tbody>\n",
       "</table>\n",
       "</div>"
      ],
      "text/plain": [
       "                   feature data_type  null_num  null_pct  unique_num  \\\n",
       "0               Product ID    object         0       0.0       10000   \n",
       "1                     Type    object         0       0.0           3   \n",
       "2      Air temperature [K]   float64         0       0.0          93   \n",
       "3  Process temperature [K]   float64         0       0.0          82   \n",
       "4   Rotational speed [rpm]     int64         0       0.0         941   \n",
       "5              Torque [Nm]   float64         0       0.0         577   \n",
       "6          Tool wear [min]     int64         0       0.0         246   \n",
       "7             Failure Type    object         0       0.0           6   \n",
       "\n",
       "                                       unique_sample  \n",
       "0                   [M14860, L47181, L47182, L47183]  \n",
       "1                                          [M, L, H]  \n",
       "2                       [298.1, 298.2, 298.3, 298.5]  \n",
       "3                       [308.6, 308.7, 308.5, 309.0]  \n",
       "4                           [1551, 1408, 1498, 1433]  \n",
       "5                           [42.8, 46.3, 49.4, 39.5]  \n",
       "6                                       [0, 3, 5, 7]  \n",
       "7  [No Failure, Power Failure, Tool Wear Failure,...  "
      ]
     },
     "execution_count": 20,
     "metadata": {},
     "output_type": "execute_result"
    }
   ],
   "source": [
    "# show info data\n",
    "desc"
   ]
  },
  {
   "cell_type": "markdown",
   "id": "d0de7289",
   "metadata": {},
   "source": [
    "# 3. Statistic Descriptive"
   ]
  },
  {
   "cell_type": "code",
   "execution_count": 21,
   "id": "8349d1ff",
   "metadata": {},
   "outputs": [
    {
     "data": {
      "text/html": [
       "<div>\n",
       "<style scoped>\n",
       "    .dataframe tbody tr th:only-of-type {\n",
       "        vertical-align: middle;\n",
       "    }\n",
       "\n",
       "    .dataframe tbody tr th {\n",
       "        vertical-align: top;\n",
       "    }\n",
       "\n",
       "    .dataframe thead th {\n",
       "        text-align: right;\n",
       "    }\n",
       "</style>\n",
       "<table border=\"1\" class=\"dataframe\">\n",
       "  <thead>\n",
       "    <tr style=\"text-align: right;\">\n",
       "      <th></th>\n",
       "      <th>count</th>\n",
       "      <th>mean</th>\n",
       "      <th>std</th>\n",
       "      <th>min</th>\n",
       "      <th>25%</th>\n",
       "      <th>50%</th>\n",
       "      <th>75%</th>\n",
       "      <th>max</th>\n",
       "    </tr>\n",
       "  </thead>\n",
       "  <tbody>\n",
       "    <tr>\n",
       "      <th>Air temperature [K]</th>\n",
       "      <td>10000.0</td>\n",
       "      <td>300.00493</td>\n",
       "      <td>2.000259</td>\n",
       "      <td>295.3</td>\n",
       "      <td>298.3</td>\n",
       "      <td>300.1</td>\n",
       "      <td>301.5</td>\n",
       "      <td>304.5</td>\n",
       "    </tr>\n",
       "    <tr>\n",
       "      <th>Process temperature [K]</th>\n",
       "      <td>10000.0</td>\n",
       "      <td>310.00556</td>\n",
       "      <td>1.483734</td>\n",
       "      <td>305.7</td>\n",
       "      <td>308.8</td>\n",
       "      <td>310.1</td>\n",
       "      <td>311.1</td>\n",
       "      <td>313.8</td>\n",
       "    </tr>\n",
       "    <tr>\n",
       "      <th>Rotational speed [rpm]</th>\n",
       "      <td>10000.0</td>\n",
       "      <td>1538.77610</td>\n",
       "      <td>179.284096</td>\n",
       "      <td>1168.0</td>\n",
       "      <td>1423.0</td>\n",
       "      <td>1503.0</td>\n",
       "      <td>1612.0</td>\n",
       "      <td>2886.0</td>\n",
       "    </tr>\n",
       "    <tr>\n",
       "      <th>Torque [Nm]</th>\n",
       "      <td>10000.0</td>\n",
       "      <td>39.98691</td>\n",
       "      <td>9.968934</td>\n",
       "      <td>3.8</td>\n",
       "      <td>33.2</td>\n",
       "      <td>40.1</td>\n",
       "      <td>46.8</td>\n",
       "      <td>76.6</td>\n",
       "    </tr>\n",
       "    <tr>\n",
       "      <th>Tool wear [min]</th>\n",
       "      <td>10000.0</td>\n",
       "      <td>107.95100</td>\n",
       "      <td>63.654147</td>\n",
       "      <td>0.0</td>\n",
       "      <td>53.0</td>\n",
       "      <td>108.0</td>\n",
       "      <td>162.0</td>\n",
       "      <td>253.0</td>\n",
       "    </tr>\n",
       "  </tbody>\n",
       "</table>\n",
       "</div>"
      ],
      "text/plain": [
       "                           count        mean         std     min     25%  \\\n",
       "Air temperature [K]      10000.0   300.00493    2.000259   295.3   298.3   \n",
       "Process temperature [K]  10000.0   310.00556    1.483734   305.7   308.8   \n",
       "Rotational speed [rpm]   10000.0  1538.77610  179.284096  1168.0  1423.0   \n",
       "Torque [Nm]              10000.0    39.98691    9.968934     3.8    33.2   \n",
       "Tool wear [min]          10000.0   107.95100   63.654147     0.0    53.0   \n",
       "\n",
       "                            50%     75%     max  \n",
       "Air temperature [K]       300.1   301.5   304.5  \n",
       "Process temperature [K]   310.1   311.1   313.8  \n",
       "Rotational speed [rpm]   1503.0  1612.0  2886.0  \n",
       "Torque [Nm]                40.1    46.8    76.6  \n",
       "Tool wear [min]           108.0   162.0   253.0  "
      ]
     },
     "execution_count": 21,
     "metadata": {},
     "output_type": "execute_result"
    }
   ],
   "source": [
    "# describe\n",
    "df.describe().T"
   ]
  },
  {
   "cell_type": "markdown",
   "id": "f23334da",
   "metadata": {},
   "source": [
    "# 4. Handling Failure Type"
   ]
  },
  {
   "cell_type": "code",
   "execution_count": 22,
   "id": "ee919d19",
   "metadata": {},
   "outputs": [
    {
     "data": {
      "text/plain": [
       "No Failure                  9652\n",
       "Heat Dissipation Failure     112\n",
       "Power Failure                 95\n",
       "Overstrain Failure            78\n",
       "Tool Wear Failure             45\n",
       "Random Failures               18\n",
       "Name: Failure Type, dtype: int64"
      ]
     },
     "execution_count": 22,
     "metadata": {},
     "output_type": "execute_result"
    }
   ],
   "source": [
    "# check value counts\n",
    "df['Failure Type'].value_counts()"
   ]
  },
  {
   "cell_type": "code",
   "execution_count": 23,
   "id": "9a474ce5",
   "metadata": {},
   "outputs": [],
   "source": [
    "# map target feature\n",
    "mapping_target_feature = {\n",
    "    'Heat Dissipation Failure' : 'Failure',\n",
    "    'Power Failure' : 'Failure',\n",
    "    'Overstrain Failure' : 'Failure',\n",
    "    'Tool Wear Failure' : 'Failure',\n",
    "    'Random Failures' : 'Failure'\n",
    "}\n",
    "\n",
    "# replace\n",
    "df['Failure Type'] = df['Failure Type'].replace(mapping_target_feature)"
   ]
  },
  {
   "cell_type": "code",
   "execution_count": 24,
   "id": "29b40d89",
   "metadata": {},
   "outputs": [
    {
     "data": {
      "text/plain": [
       "No Failure    9652\n",
       "Failure        348\n",
       "Name: Failure Type, dtype: int64"
      ]
     },
     "execution_count": 24,
     "metadata": {},
     "output_type": "execute_result"
    }
   ],
   "source": [
    "# cek value counts\n",
    "df['Failure Type'].value_counts()"
   ]
  },
  {
   "cell_type": "markdown",
   "id": "42705fce",
   "metadata": {},
   "source": [
    "# 5. Data Defense"
   ]
  },
  {
   "cell_type": "code",
   "execution_count": 25,
   "id": "cc1ed9c1",
   "metadata": {},
   "outputs": [],
   "source": [
    "def check_data(input_data, params):\n",
    "    \"Function to Defense the Data\"\n",
    "    # check data types\n",
    "    assert input_data.select_dtypes(\"object\").columns.to_list() == params[\"object_columns\"], \"an error occurs in object column(s).\"\n",
    "    assert input_data.select_dtypes(\"int\").columns.to_list() == params[\"int64_columns\"], \"an error occurs in int32 column(s).\"\n",
    "    assert input_data.select_dtypes(\"float\").columns.to_list() == params[\"float64_columns\"], \"an error occurs in int32 column(s).\"\n",
    "\n",
    "    # check range of data\n",
    "    assert set(input_data['Type']).issubset(set(params[\"range_Type\"])), \"an error occurs in Type range.\"\n",
    "    assert input_data['Rotational speed [rpm]'].between(params[\"range_Rotational speed [rpm]\"][0], params[\"range_Rotational speed [rpm]\"][1]).sum() == len(input_data), \"an error occurs in Rotational speed [rpm] range.\"\n",
    "    assert input_data['Tool wear [min]'].between(params[\"range_Tool wear [min]\"][0], params[\"range_Tool wear [min]\"][1]).sum() == len(input_data), \"an error occurs in Tool wear [min] range.\"\n",
    "    assert input_data['Air temperature [K]'].between(params[\"range_Air temperature [K]\"][0], params[\"range_Air temperature [K]\"][1]).sum() == len(input_data), \"an error occurs in Air temperature [K] range.\"\n",
    "    assert input_data['Process temperature [K]'].between(params[\"range_Process temperature [K]\"][0], params[\"range_Process temperature [K]\"][1]).sum() == len(input_data), \"an error occurs in Process temperature [K] range.\"\n",
    "    assert input_data['Torque [Nm]'].between(params[\"range_Torque [Nm]\"][0], params[\"range_Torque [Nm]\"][1]).sum() == len(input_data), \"an error occurs in Torque [Nm] range.\""
   ]
  },
  {
   "cell_type": "code",
   "execution_count": 26,
   "id": "03497d78",
   "metadata": {},
   "outputs": [],
   "source": [
    "# data defense\n",
    "check_data(input_data = df, \n",
    "           params = params)"
   ]
  },
  {
   "cell_type": "markdown",
   "id": "23207170",
   "metadata": {},
   "source": [
    "# 6. Data Spliting"
   ]
  },
  {
   "cell_type": "code",
   "execution_count": 27,
   "id": "faa16f2f",
   "metadata": {},
   "outputs": [],
   "source": [
    "# 5. split data\n",
    "def split_data(input_data, config):\n",
    "    \"Function to split data into train, valid, and test\"\n",
    "    \n",
    "    # Split predictor and label\n",
    "    x = input_data[config[\"predictors\"]].copy()\n",
    "    y = input_data[config[\"label\"]].copy()\n",
    "\n",
    "    # 1st split train and test\n",
    "    x_train, x_test, \\\n",
    "    y_train, y_test = train_test_split(\n",
    "        x, y,\n",
    "        test_size = config[\"test_size\"],\n",
    "        random_state = 42,\n",
    "        stratify = y\n",
    "    )\n",
    "\n",
    "    # 2nd split test and valid\n",
    "    x_valid, x_test, \\\n",
    "    y_valid, y_test = train_test_split(\n",
    "        x_test, y_test,\n",
    "        test_size = config[\"valid_size\"],\n",
    "        random_state = 42,\n",
    "        stratify = y_test\n",
    "    )\n",
    "\n",
    "    return x_train, x_valid, x_test, y_train, y_valid, y_test"
   ]
  },
  {
   "cell_type": "code",
   "execution_count": 28,
   "id": "83f426b2",
   "metadata": {},
   "outputs": [],
   "source": [
    "# Splitting train, valid, and test set\n",
    "x_train, x_valid, x_test, \\\n",
    "    y_train, y_valid, y_test = split_data(input_data = df, \n",
    "                                          config = params)"
   ]
  },
  {
   "cell_type": "code",
   "execution_count": 29,
   "id": "cfd74489",
   "metadata": {},
   "outputs": [
    {
     "name": "stdout",
     "output_type": "stream",
     "text": [
      "Data dimension x_train :  (8000, 6)\n",
      "Data dimension x_valid :  (1000, 6)\n",
      "Data dimension x_test  :  (1000, 6)\n",
      "Data dimension y_train :  (8000,)\n",
      "Data dimension y_valid :  (1000,)\n",
      "Data dimension y_test  :  (1000,)\n"
     ]
    }
   ],
   "source": [
    "# check dimension\n",
    "print(f\"Data dimension x_train :  {x_train.shape}\")\n",
    "print(f\"Data dimension x_valid :  {x_valid.shape}\")\n",
    "print(f\"Data dimension x_test  :  {x_test.shape}\")\n",
    "print(f\"Data dimension y_train :  {y_train.shape}\")\n",
    "print(f\"Data dimension y_valid :  {y_valid.shape}\")\n",
    "print(f\"Data dimension y_test  :  {y_test.shape}\")"
   ]
  },
  {
   "cell_type": "markdown",
   "id": "7f08cc66",
   "metadata": {},
   "source": [
    " # 6. Save train, valid and test set"
   ]
  },
  {
   "cell_type": "code",
   "execution_count": 30,
   "id": "c0078456",
   "metadata": {},
   "outputs": [
    {
     "data": {
      "text/plain": [
       "['data/raw/y_test.pkl']"
      ]
     },
     "execution_count": 30,
     "metadata": {},
     "output_type": "execute_result"
    }
   ],
   "source": [
    "joblib.dump(x_train, \"data/raw/x_train.pkl\")\n",
    "joblib.dump(y_train, \"data/raw/y_train.pkl\")\n",
    "joblib.dump(x_valid, \"data/raw/x_valid.pkl\")\n",
    "joblib.dump(y_valid, \"data/raw/y_valid.pkl\")\n",
    "joblib.dump(x_test, \"data/raw/x_test.pkl\")\n",
    "joblib.dump(y_test, \"data/raw/y_test.pkl\")"
   ]
  },
  {
   "cell_type": "code",
   "execution_count": null,
   "id": "0c75b8f7",
   "metadata": {},
   "outputs": [],
   "source": []
  }
 ],
 "metadata": {
  "kernelspec": {
   "display_name": "Python 3 (ipykernel)",
   "language": "python",
   "name": "python3"
  },
  "language_info": {
   "codemirror_mode": {
    "name": "ipython",
    "version": 3
   },
   "file_extension": ".py",
   "mimetype": "text/x-python",
   "name": "python",
   "nbconvert_exporter": "python",
   "pygments_lexer": "ipython3",
   "version": "3.11.4"
  }
 },
 "nbformat": 4,
 "nbformat_minor": 5
}
